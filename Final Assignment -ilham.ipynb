{
 "cells": [
  {
   "attachments": {},
   "cell_type": "markdown",
   "metadata": {},
   "source": [
    "To start with, we will import the necessary libraries and load the sales dataset:"
   ]
  },
  {
   "cell_type": "code",
   "execution_count": 1,
   "metadata": {},
   "outputs": [],
   "source": [
    "import pandas as pd\n",
    "import matplotlib.pyplot as plt\n",
    "\n",
    "# Load sales data into a pandas DataFrame\n",
    "sales_data = pd.read_csv('C:/Users/ilham/Desktop/ITIM5113 - Big Data/sales_data_na.csv')\n",
    "\n",
    "\n"
   ]
  },
  {
   "attachments": {},
   "cell_type": "markdown",
   "metadata": {},
   "source": [
    "Check the size of the dataset"
   ]
  },
  {
   "cell_type": "code",
   "execution_count": 26,
   "metadata": {},
   "outputs": [
    {
     "name": "stdout",
     "output_type": "stream",
     "text": [
      "Shape of the dataset: (113037, 18)\n"
     ]
    }
   ],
   "source": [
    "# Check the size of the dataset\n",
    "print(\"Shape of the dataset:\", sales_data.shape)"
   ]
  },
  {
   "attachments": {},
   "cell_type": "markdown",
   "metadata": {},
   "source": [
    "Visualize the data before cleaning process"
   ]
  },
  {
   "cell_type": "code",
   "execution_count": 2,
   "metadata": {},
   "outputs": [
    {
     "name": "stdout",
     "output_type": "stream",
     "text": [
      "         Date  Day     Month  Year  Customer_Age       Age_Group  \\\n",
      "0  11/26/2013   26  November  2013          19.0     Youth (<25)   \n",
      "1  11/26/2015   26       NaN  2015          19.0             NaN   \n",
      "2   3/23/2014   23     March  2014           NaN  Adults (35-64)   \n",
      "3   3/23/2016   23     March  2016          49.0  Adults (35-64)   \n",
      "4   5/15/2014   15       May  2014          47.0  Adults (35-64)   \n",
      "\n",
      "  Customer_Gender    Country             State Product_Category Sub_Category  \\\n",
      "0               M     Canada  British Columbia      Accessories   Bike Racks   \n",
      "1               M     Canada  British Columbia      Accessories   Bike Racks   \n",
      "2               M  Australia               NaN      Accessories   Bike Racks   \n",
      "3               M  Australia   New South Wales      Accessories   Bike Racks   \n",
      "4               F  Australia   New South Wales      Accessories   Bike Racks   \n",
      "\n",
      "               Product  Order_Quantity  Unit_Cost  Unit_Price  Profit    Cost  \\\n",
      "0                  NaN               8       45.0       120.0   590.0     NaN   \n",
      "1  Hitch Rack - 4-Bike               8       45.0         NaN   590.0   360.0   \n",
      "2  Hitch Rack - 4-Bike              23       45.0       120.0  1366.0  1035.0   \n",
      "3  Hitch Rack - 4-Bike              20       45.0       120.0  1188.0   900.0   \n",
      "4  Hitch Rack - 4-Bike               4       45.0       120.0   238.0   180.0   \n",
      "\n",
      "   Revenue  \n",
      "0    950.0  \n",
      "1    950.0  \n",
      "2      NaN  \n",
      "3   2088.0  \n",
      "4    418.0  \n",
      "                 Day           Year   Customer_Age  Order_Quantity  \\\n",
      "count  113037.000000  113037.000000  113036.000000   113037.000000   \n",
      "mean       15.665817    2014.401727      35.919052       11.912073   \n",
      "std         8.781555       1.272512      11.021877       10.193974   \n",
      "min         1.000000    2011.000000      17.000000        1.000000   \n",
      "25%         8.000000    2013.000000      28.000000        2.000000   \n",
      "50%        16.000000    2014.000000      35.000000       10.000000   \n",
      "75%        23.000000    2016.000000      43.000000       20.000000   \n",
      "max        31.000000    2016.000000      87.000000     1200.000000   \n",
      "\n",
      "           Unit_Cost     Unit_Price         Profit           Cost  \\\n",
      "count  113034.000000  113036.000000  113034.000000  113036.000000   \n",
      "mean      267.305519     452.942142     285.044004     469.318553   \n",
      "std       549.838521     922.070724     453.885954     884.866136   \n",
      "min         1.000000       2.000000     -30.000000       1.000000   \n",
      "25%         2.000000       5.000000      29.000000      28.000000   \n",
      "50%         9.000000      24.000000     101.000000     108.000000   \n",
      "75%        42.000000      70.000000     358.000000     432.000000   \n",
      "max      2171.000000    3578.000000   15096.000000   42978.000000   \n",
      "\n",
      "             Revenue  \n",
      "count  113032.000000  \n",
      "mean      754.336940  \n",
      "std      1309.101194  \n",
      "min         2.000000  \n",
      "25%        63.000000  \n",
      "50%       222.500000  \n",
      "75%       800.000000  \n",
      "max     58074.000000  \n"
     ]
    },
    {
     "data": {
      "image/png": "[encoded data removed]",
      "text/plain": [
       "<Figure size 640x480 with 1 Axes>"
      ]
     },
     "metadata": {},
     "output_type": "display_data"
    },
    {
     "data": {
      "image/png": "[encoded data removed]",
      "text/plain": [
       "<Figure size 640x480 with 1 Axes>"
      ]
     },
     "metadata": {},
     "output_type": "display_data"
    }
   ],
   "source": [
    "\n",
    "\n",
    "# Display the first 5 rows of the DataFrame\n",
    "print(sales_data.head())\n",
    "\n",
    "# Display summary statistics of the DataFrame\n",
    "print(sales_data.describe())\n",
    "\n",
    "\n",
    "# Plot a histogram of the 'Sales' column\n",
    "plt.hist(sales_data['Revenue'], bins=20)\n",
    "plt.xlabel('Revenue')\n",
    "plt.ylabel('Frequency')\n",
    "plt.show()\n",
    "\n",
    "# Plot a box plot of the 'Profit' column\n",
    "plt.boxplot(sales_data['Profit'])\n",
    "plt.ylabel('Profit')\n",
    "plt.show()"
   ]
  },
  {
   "attachments": {},
   "cell_type": "markdown",
   "metadata": {},
   "source": [
    "To check for inconsistent column names in a pandas DataFrame"
   ]
  },
  {
   "cell_type": "code",
   "execution_count": 3,
   "metadata": {},
   "outputs": [
    {
     "name": "stdout",
     "output_type": "stream",
     "text": [
      "Index(['Date', 'Day', 'Month', 'Year', 'Customer_Age', 'Age_Group',\n",
      "       'Customer_Gender', 'Country', 'State', 'Product_Category',\n",
      "       'Sub_Category', 'Product', 'Order_Quantity', 'Unit_Cost', 'Unit_Price',\n",
      "       'Profit', 'Cost', 'Revenue'],\n",
      "      dtype='object')\n",
      "Index(['Date', 'Day', 'Month', 'Year', 'Customer_Age', 'Age_Group',\n",
      "       'Customer_Gender', 'Country', 'State', 'Product_Category',\n",
      "       'Sub_Category', 'Product', 'Order_Quantity', 'Unit_Cost', 'Unit_Price',\n",
      "       'Profit', 'Cost', 'Revenue'],\n",
      "      dtype='object')\n"
     ]
    }
   ],
   "source": [
    "# Print the column names of the DataFrame\n",
    "print(sales_data.columns)\n",
    "\n",
    "# Rename any inconsistent or misspelled column names\n",
    "sales_data = sales_data.rename(columns={'revenu': 'revenue'})\n",
    "\n",
    "# Verify that all column names are consistent and properly spelled\n",
    "print(sales_data.columns)"
   ]
  },
  {
   "attachments": {},
   "cell_type": "markdown",
   "metadata": {},
   "source": [
    "To check for missing data in a pandas DataFrame, we can use the isnull() method to create a DataFrame of boolean values indicating whether each element in the original DataFrame is missing (True) or not missing (False)"
   ]
  },
  {
   "cell_type": "code",
   "execution_count": 4,
   "metadata": {},
   "outputs": [
    {
     "name": "stdout",
     "output_type": "stream",
     "text": [
      "Date                0\n",
      "Day                 0\n",
      "Month               1\n",
      "Year                0\n",
      "Customer_Age        1\n",
      "Age_Group           1\n",
      "Customer_Gender     0\n",
      "Country             0\n",
      "State               1\n",
      "Product_Category    0\n",
      "Sub_Category        0\n",
      "Product             1\n",
      "Order_Quantity      0\n",
      "Unit_Cost           3\n",
      "Unit_Price          1\n",
      "Profit              3\n",
      "Cost                1\n",
      "Revenue             5\n",
      "dtype: int64\n"
     ]
    }
   ],
   "source": [
    "# Check for missing data in the DataFrame\n",
    "missing_data = sales_data.isnull()\n",
    "print(missing_data.sum())"
   ]
  },
  {
   "attachments": {},
   "cell_type": "markdown",
   "metadata": {},
   "source": [
    "Use the isnull method to identify missing data in the dataset and use techniques such as imputation or deletion to handle missing data:"
   ]
  },
  {
   "cell_type": "code",
   "execution_count": 5,
   "metadata": {},
   "outputs": [
    {
     "name": "stderr",
     "output_type": "stream",
     "text": [
      "C:\\Users\\ilham\\AppData\\Local\\Temp\\ipykernel_12308\\32405820.py:2: FutureWarning: The default value of numeric_only in DataFrame.median is deprecated. In a future version, it will default to False. In addition, specifying 'numeric_only=None' is deprecated. Select only valid columns or specify the value of numeric_only to silence this warning.\n",
      "  sales_data.fillna(sales_data.median(), inplace=True)\n"
     ]
    }
   ],
   "source": [
    "# Replace missing values with the median\n",
    "sales_data.fillna(sales_data.median(), inplace=True)\n",
    "\n",
    "# Drop rows with missing values\n",
    "sales_data.dropna(inplace=True)\n",
    "\n"
   ]
  },
  {
   "attachments": {},
   "cell_type": "markdown",
   "metadata": {},
   "source": [
    "Check again the missing data. We can then use the sum() method to count the number of missing values in each column"
   ]
  },
  {
   "cell_type": "code",
   "execution_count": 6,
   "metadata": {},
   "outputs": [
    {
     "name": "stdout",
     "output_type": "stream",
     "text": [
      "Date                0\n",
      "Day                 0\n",
      "Month               0\n",
      "Year                0\n",
      "Customer_Age        0\n",
      "Age_Group           0\n",
      "Customer_Gender     0\n",
      "Country             0\n",
      "State               0\n",
      "Product_Category    0\n",
      "Sub_Category        0\n",
      "Product             0\n",
      "Order_Quantity      0\n",
      "Unit_Cost           0\n",
      "Unit_Price          0\n",
      "Profit              0\n",
      "Cost                0\n",
      "Revenue             0\n",
      "dtype: int64\n"
     ]
    }
   ],
   "source": [
    "# Check for missing data in the DataFrame\n",
    "missing_data = sales_data.isnull()\n",
    "print(missing_data.sum())"
   ]
  },
  {
   "attachments": {},
   "cell_type": "markdown",
   "metadata": {},
   "source": [
    "To check for outliers in the sales_data DataFrame"
   ]
  },
  {
   "cell_type": "code",
   "execution_count": 7,
   "metadata": {},
   "outputs": [
    {
     "data": {
      "image/png": "[encoded data removed]",
      "text/plain": [
       "<Figure size 640x480 with 1 Axes>"
      ]
     },
     "metadata": {},
     "output_type": "display_data"
    }
   ],
   "source": [
    "import matplotlib.pyplot as plt\n",
    "\n",
    "# Plot box plots for 'Cost', 'Profit', and 'revenue' columns\n",
    "plt.boxplot([sales_data['Cost'], sales_data['Profit'], sales_data['Revenue']])\n",
    "plt.xticks([1, 2, 3], ['Cost', 'Profit', 'Revenue'])\n",
    "plt.ylabel('Value')\n",
    "plt.show()"
   ]
  },
  {
   "attachments": {},
   "cell_type": "markdown",
   "metadata": {},
   "source": [
    "To check for duplicate rows in a pandas DataFrame, we can use the duplicated() method. This method returns a boolean Series indicating whether each row is a duplicate of a previous row"
   ]
  },
  {
   "cell_type": "code",
   "execution_count": 8,
   "metadata": {},
   "outputs": [
    {
     "name": "stdout",
     "output_type": "stream",
     "text": [
      "Number of duplicate rows: 1001\n"
     ]
    }
   ],
   "source": [
    "\n",
    "# Check for duplicate rows\n",
    "duplicate_rows = sales_data.duplicated()\n",
    "\n",
    "# Print the number of duplicate rows\n",
    "print('Number of duplicate rows:', duplicate_rows.sum())"
   ]
  },
  {
   "attachments": {},
   "cell_type": "markdown",
   "metadata": {},
   "source": [
    "This method removes duplicate rows based on a subset of columns, or based on all columns by default"
   ]
  },
  {
   "cell_type": "code",
   "execution_count": 9,
   "metadata": {},
   "outputs": [
    {
     "name": "stdout",
     "output_type": "stream",
     "text": [
      "Number of rows and columns after cleaning: (112033, 18)\n"
     ]
    }
   ],
   "source": [
    "# Drop duplicate rows based on all columns\n",
    "sales_data = sales_data.drop_duplicates()\n",
    "\n",
    "# Print the number of rows and columns in the cleaned DataFrame\n",
    "print('Number of rows and columns after cleaning:', sales_data.shape)"
   ]
  },
  {
   "attachments": {},
   "cell_type": "markdown",
   "metadata": {},
   "source": [
    "Let's check the column names first. We can print the column names using the following code"
   ]
  },
  {
   "cell_type": "code",
   "execution_count": 10,
   "metadata": {},
   "outputs": [
    {
     "name": "stdout",
     "output_type": "stream",
     "text": [
      "Index(['Date', 'Day', 'Month', 'Year', 'Customer_Age', 'Age_Group',\n",
      "       'Customer_Gender', 'Country', 'State', 'Product_Category',\n",
      "       'Sub_Category', 'Product', 'Order_Quantity', 'Unit_Cost', 'Unit_Price',\n",
      "       'Profit', 'Cost', 'Revenue'],\n",
      "      dtype='object')\n"
     ]
    }
   ],
   "source": [
    "print(sales_data.columns)\n"
   ]
  },
  {
   "attachments": {},
   "cell_type": "markdown",
   "metadata": {},
   "source": [
    "To check untidy data"
   ]
  },
  {
   "cell_type": "code",
   "execution_count": 11,
   "metadata": {},
   "outputs": [
    {
     "name": "stdout",
     "output_type": "stream",
     "text": [
      "Column 'Date' has 1884 unique value(s) out of 112033 row(s).\n",
      "Column 'Day' has 31 unique value(s) out of 112033 row(s).\n",
      "Column 'Month' has 16 unique value(s) out of 112033 row(s).\n",
      "Column 'Year' has 6 unique value(s) out of 112033 row(s).\n",
      "Column 'Customer_Age' has 70 unique value(s) out of 112033 row(s).\n",
      "Column 'Age_Group' has 4 unique value(s) out of 112033 row(s).\n",
      "Column 'Customer_Gender' has 2 unique value(s) out of 112033 row(s).\n",
      "Column 'Country' has 6 unique value(s) out of 112033 row(s).\n",
      "Column 'State' has 53 unique value(s) out of 112033 row(s).\n",
      "Column 'Product_Category' has 3 unique value(s) out of 112033 row(s).\n",
      "Column 'Sub_Category' has 17 unique value(s) out of 112033 row(s).\n",
      "Column 'Product' has 130 unique value(s) out of 112033 row(s).\n",
      "Column 'Order_Quantity' has 33 unique value(s) out of 112033 row(s).\n",
      "Column 'Unit_Cost' has 35 unique value(s) out of 112033 row(s).\n",
      "Column 'Unit_Price' has 36 unique value(s) out of 112033 row(s).\n",
      "Column 'Profit' has 1256 unique value(s) out of 112033 row(s).\n",
      "Column 'Cost' has 360 unique value(s) out of 112033 row(s).\n",
      "Column 'Revenue' has 1877 unique value(s) out of 112033 row(s).\n"
     ]
    }
   ],
   "source": [
    "for col in sales_data.columns:\n",
    "    unique_vals = pd.Series(sales_data[col].unique())\n",
    "    if unique_vals.size == sales_data[col].size:\n",
    "        print(f\"Column '{col}' has a unique value for each row.\")\n",
    "    else:\n",
    "        print(f\"Column '{col}' has {unique_vals.size} unique value(s) out of {sales_data[col].size} row(s).\")"
   ]
  },
  {
   "attachments": {},
   "cell_type": "markdown",
   "metadata": {},
   "source": [
    "To process the column"
   ]
  },
  {
   "cell_type": "code",
   "execution_count": 18,
   "metadata": {},
   "outputs": [],
   "source": [
    "# Convert OrderDate to datetime\n",
    "sales_data['Date'] = pd.to_datetime(sales_data['Date'])\n",
    "\n",
    "# Create new columns for OrderYear, OrderMonth, and OrderDay\n",
    "sales_data['OrderYear'] = sales_data['Date'].dt.year\n",
    "sales_data['OrderMonth'] = sales_data['Date'].dt.month\n",
    "sales_data['OrderDay'] = sales_data['Date'].dt.day\n",
    "\n",
    "# Combine Country and City columns into a single Location column\n",
    "sales_data['Location'] = sales_data['Country'] + ', ' + sales_data['State']\n",
    "\n",
    "# Calculate the profit margin\n",
    "sales_data['ProfitMargin'] = (sales_data['Revenue'] - sales_data['Cost']) / sales_data['Revenue']\n",
    "\n",
    "# Drop unnecessary columns\n",
    "sales_data.drop(['Date', 'Country', 'State', 'Revenue', 'Cost'], axis=1, inplace=True)"
   ]
  },
  {
   "attachments": {},
   "cell_type": "markdown",
   "metadata": {},
   "source": [
    "Print again to see the reflection to the columns "
   ]
  },
  {
   "cell_type": "code",
   "execution_count": 25,
   "metadata": {},
   "outputs": [
    {
     "name": "stdout",
     "output_type": "stream",
     "text": [
      "Index(['Day', 'Month', 'Year', 'Customer_Age', 'Age_Group', 'Customer_Gender',\n",
      "       'Product_Category', 'Sub_Category', 'Product', 'Order_Quantity',\n",
      "       'Unit_Cost', 'Unit_Price', 'Profit', 'OrderYear', 'OrderMonth',\n",
      "       'OrderDay', 'Location', 'ProfitMargin'],\n",
      "      dtype='object')\n"
     ]
    }
   ],
   "source": [
    "print(sales_data.columns)"
   ]
  },
  {
   "attachments": {},
   "cell_type": "markdown",
   "metadata": {},
   "source": [
    "Visualize the data using various plots to gain a better understanding of the dataset. Here are some examples:"
   ]
  },
  {
   "cell_type": "code",
   "execution_count": 19,
   "metadata": {},
   "outputs": [
    {
     "data": {
      "image/png": "[encoded data removed]",
      "text/plain": [
       "<Figure size 640x480 with 1 Axes>"
      ]
     },
     "metadata": {},
     "output_type": "display_data"
    }
   ],
   "source": [
    "# Plot histogram of customer ages\n",
    "plt.hist(sales_data['Customer_Age'], bins=30)\n",
    "plt.xlabel('Customer Age')\n",
    "plt.ylabel('Count')\n",
    "plt.title('Distribution of Customer Ages')\n",
    "plt.show()"
   ]
  },
  {
   "cell_type": "code",
   "execution_count": 24,
   "metadata": {},
   "outputs": [
    {
     "data": {
      "image/png": "[encoded data removed]",
      "text/plain": [
       "<Figure size 640x480 with 1 Axes>"
      ]
     },
     "metadata": {},
     "output_type": "display_data"
    }
   ],
   "source": [
    "# Plot scatter plot of Order Quantity vs. Unit Price\n",
    "plt.scatter(sales_data['Order_Quantity'], sales_data['Unit_Price'])\n",
    "plt.xlabel('Order Quantity')\n",
    "plt.ylabel('Unit Price')\n",
    "plt.title('Order Quantity vs. Unit Price')\n",
    "plt.show()\n",
    "\n"
   ]
  }
 ],
 "metadata": {
  "kernelspec": {
   "display_name": "base",
   "language": "python",
   "name": "python3"
  },
  "language_info": {
   "codemirror_mode": {
    "name": "ipython",
    "version": 3
   },
   "file_extension": ".py",
   "mimetype": "text/x-python",
   "name": "python",
   "nbconvert_exporter": "python",
   "pygments_lexer": "ipython3",
   "version": "3.11.2"
  },
  "orig_nbformat": 4
 },
 "nbformat": 4,
 "nbformat_minor": 2
}
